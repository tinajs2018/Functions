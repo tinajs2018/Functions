{
 "cells": [
  {
   "cell_type": "code",
   "execution_count": 1,
   "metadata": {},
   "outputs": [
    {
     "name": "stdout",
     "output_type": "stream",
     "text": [
      "Welcome crack heads\n"
     ]
    }
   ],
   "source": [
    "import random\n",
    "import string\n",
    "print('Welcome crack heads')"
   ]
  },
  {
   "cell_type": "code",
   "execution_count": 2,
   "metadata": {},
   "outputs": [],
   "source": [
    "interest=['Swiiming','zoning','paging','dashing']\n",
    "nouns=['cow','goat','pinn','zone','region']\n",
    "pick=random.choice(interest)\n",
    "pick1=random.choice( nouns)"
   ]
  },
  {
   "cell_type": "code",
   "execution_count": 3,
   "metadata": {},
   "outputs": [],
   "source": [
    "# number=random.randrange(0,100)\n",
    "number=random.randrange(0,100)\n",
    "special_char=random.choice(string.punctuation)"
   ]
  },
  {
   "cell_type": "code",
   "execution_count": 4,
   "metadata": {},
   "outputs": [
    {
     "data": {
      "text/plain": [
       "'Swiimingzone2.'"
      ]
     },
     "execution_count": 4,
     "metadata": {},
     "output_type": "execute_result"
    }
   ],
   "source": [
    "#combiniting to create a special character\n",
    "password=pick+ pick1 + str(number) + special_char\n",
    "# password=interest + nouns +  + special_char\n",
    "password"
   ]
  },
  {
   "cell_type": "code",
   "execution_count": 5,
   "metadata": {},
   "outputs": [
    {
     "name": "stdout",
     "output_type": "stream",
     "text": [
      "Your password  is  Swiimingzone14&\n",
      "Do you need another password type Y or NY\n",
      "Your password  is  zoningpinn37$\n",
      "Do you need another password type Y or NY\n",
      "Your password  is  zoningzone4=\n",
      "Do you need another password type Y or NN\n"
     ]
    }
   ],
   "source": [
    "while True:\n",
    "    pick=random.choice(interest)\n",
    "    pick1=random.choice(nouns)\n",
    "    number=random.randrange(0,100)\n",
    "    special_char=random.choice(string.punctuation)\n",
    "    password=pick+pick1+ str(number)+ special_char\n",
    "    print( \"Your password  is  \"+ password)\n",
    "    response=input('Do you need another password type Y or N')\n",
    "    if response== 'N':\n",
    "        break"
   ]
  },
  {
   "cell_type": "code",
   "execution_count": null,
   "metadata": {},
   "outputs": [],
   "source": []
  }
 ],
 "metadata": {
  "kernelspec": {
   "display_name": "Python 3",
   "language": "python",
   "name": "python3"
  },
  "language_info": {
   "codemirror_mode": {
    "name": "ipython",
    "version": 3
   },
   "file_extension": ".py",
   "mimetype": "text/x-python",
   "name": "python",
   "nbconvert_exporter": "python",
   "pygments_lexer": "ipython3",
   "version": "3.7.4"
  }
 },
 "nbformat": 4,
 "nbformat_minor": 2
}
