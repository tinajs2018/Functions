{
 "cells": [
  {
   "cell_type": "code",
   "execution_count": 3,
   "metadata": {
    "scrolled": true
   },
   "outputs": [
    {
     "name": "stdout",
     "output_type": "stream",
     "text": [
      "welcome to  password picker\n"
     ]
    }
   ],
   "source": [
    "import random \n",
    "import string\n",
    "print('welcome to  password picker')"
   ]
  },
  {
   "cell_type": "code",
   "execution_count": 8,
   "metadata": {},
   "outputs": [],
   "source": [
    "adjective =['coding','reading ','sleeping','dancing','travelling']"
   ]
  },
  {
   "cell_type": "code",
   "execution_count": 6,
   "metadata": {},
   "outputs": [],
   "source": [
    "nouns=['mukuria ','muranga','kangeta','meru','embu','stati']"
   ]
  },
  {
   "cell_type": "code",
   "execution_count": 9,
   "metadata": {},
   "outputs": [],
   "source": [
    "adjectives =random.choice(adjective )\n",
    "noun=random.choice(nouns)"
   ]
  },
  {
   "cell_type": "code",
   "execution_count": 11,
   "metadata": {},
   "outputs": [],
   "source": [
    "number=random.randrange(0,100)\n",
    "special_char=random.choice(string.punctuation)"
   ]
  },
  {
   "cell_type": "code",
   "execution_count": 13,
   "metadata": {},
   "outputs": [
    {
     "name": "stdout",
     "output_type": "stream",
     "text": [
      "Your password is : travellingmeru49[\n"
     ]
    }
   ],
   "source": [
    "password=adjectives+ noun + str(number) + special_char\n",
    "print('Your password is : %s' %  password)"
   ]
  },
  {
   "cell_type": "code",
   "execution_count": 14,
   "metadata": {},
   "outputs": [
    {
     "name": "stdout",
     "output_type": "stream",
     "text": [
      "Your password is : dancingmeru79&\n",
      "Would you like another password ?  TYpe Yor Noyor\n",
      "Your password is : dancingkangeta25%\n",
      "Would you like another password ?  TYpe Yor Noyes\n",
      "Your password is : codingkangeta53\"\n",
      "Would you like another password ?  TYpe Yor Noyor\n",
      "Your password is : dancingmeru1\"\n",
      "Would you like another password ?  TYpe Yor Noyor\n",
      "Your password is : reading mukuria 94!\n",
      "Would you like another password ?  TYpe Yor Noyor\n",
      "Your password is : dancingmeru17?\n",
      "Would you like another password ?  TYpe Yor Noyor\n",
      "Your password is : codingmuranga82=\n",
      "Would you like another password ?  TYpe Yor Noyor\n",
      "Your password is : codingkangeta53~\n",
      "Would you like another password ?  TYpe Yor Noyor\n",
      "Your password is : sleepingmuranga38<\n",
      "Would you like another password ?  TYpe Yor Noyor\n",
      "Your password is : sleepingkangeta79+\n",
      "Would you like another password ?  TYpe Yor Noyor\n",
      "Your password is : dancingstati2|\n",
      "Would you like another password ?  TYpe Yor Noyor\n",
      "Your password is : codingkangeta11\\\n",
      "Would you like another password ?  TYpe Yor NoNo\n"
     ]
    }
   ],
   "source": [
    "while True:\n",
    "    adjectives =random.choice(adjective )\n",
    "    noun=random.choice(nouns)\n",
    "    number=random.randrange(0,100)\n",
    "    special_char=random.choice(string.punctuation)\n",
    "    password=adjectives+ noun + str(number) + special_char\n",
    "    print('Your password is : %s' %  password)\n",
    "    renspone=input('Would you like another password ?  TYpe Yor No')\n",
    "    if renspone== 'No':\n",
    "        break"
   ]
  },
  {
   "cell_type": "code",
   "execution_count": null,
   "metadata": {},
   "outputs": [],
   "source": []
  }
 ],
 "metadata": {
  "kernelspec": {
   "display_name": "Python 3",
   "language": "python",
   "name": "python3"
  },
  "language_info": {
   "codemirror_mode": {
    "name": "ipython",
    "version": 3
   },
   "file_extension": ".py",
   "mimetype": "text/x-python",
   "name": "python",
   "nbconvert_exporter": "python",
   "pygments_lexer": "ipython3",
   "version": "3.7.4"
  }
 },
 "nbformat": 4,
 "nbformat_minor": 2
}
