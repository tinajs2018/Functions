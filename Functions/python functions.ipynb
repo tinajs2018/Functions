{
 "cells": [
  {
   "cell_type": "code",
   "execution_count": 2,
   "metadata": {},
   "outputs": [
    {
     "name": "stdout",
     "output_type": "stream",
     "text": [
      "I work each day to ensure it better\n"
     ]
    }
   ],
   "source": [
    "def future():\n",
    "    print('I work each day to ensure it better')\n",
    "future()"
   ]
  },
  {
   "cell_type": "code",
   "execution_count": 3,
   "metadata": {},
   "outputs": [
    {
     "name": "stdout",
     "output_type": "stream",
     "text": [
      "i Choose Machine learning\n",
      "i Choose web development\n",
      "i Choose mobile\n"
     ]
    }
   ],
   "source": [
    "def choice (datascience):\n",
    "    print('i Choose ' + datascience )\n",
    "choice ('Machine learning')\n",
    "choice('web development')\n",
    "choice('mobile')"
   ]
  },
  {
   "cell_type": "code",
   "execution_count": 6,
   "metadata": {},
   "outputs": [
    {
     "name": "stdout",
     "output_type": "stream",
     "text": [
      "i love  this reptiles\n",
      "It called  gekko\n",
      "i love  this mamalian\n",
      "It called  duzo\n"
     ]
    }
   ],
   "source": [
    "# Using positional arguments\n",
    "def pet(kind ,name):\n",
    "    print('i love  this ' + kind )\n",
    "    print('It called  ' + name)\n",
    "pet('reptiles', 'gekko')\n",
    "pet('mamalian','duzo')"
   ]
  },
  {
   "cell_type": "code",
   "execution_count": 7,
   "metadata": {},
   "outputs": [
    {
     "name": "stdout",
     "output_type": "stream",
     "text": [
      "Your first name is karimi\n",
      "The last name is krsitine\n",
      "Your first name is alex\n",
      "The last name is luke\n"
     ]
    }
   ],
   "source": [
    "def name(first,last):\n",
    "    print('Your first name is ' + first)\n",
    "    print('The last name is ' + last)\n",
    "name(first='karimi',last='krsitine')\n",
    "name(first='alex', last='luke')"
   ]
  },
  {
   "cell_type": "code",
   "execution_count": 9,
   "metadata": {},
   "outputs": [
    {
     "name": "stdout",
     "output_type": "stream",
     "text": [
      "  i choose data science\n",
      "The best a langauage  tecnonlogies is  python\n",
      "  i choose machine learning\n",
      "The best a langauage  tecnonlogies is  python\n"
     ]
    }
   ],
   "source": [
    "def lang(category,best='python'):\n",
    "    print('  i choose ' + category )\n",
    "    print ( 'The best a langauage  tecnonlogies is  ' + best)\n",
    "lang('data science','python')\n",
    "lang('machine learning')"
   ]
  },
  {
   "cell_type": "code",
   "execution_count": 13,
   "metadata": {},
   "outputs": [
    {
     "name": "stdout",
     "output_type": "stream",
     "text": [
      "  i choose data science\n",
      "The best a langauage  tecnonlogies is  python\n",
      "  i choose machine learning\n",
      "The best a langauage  tecnonlogies is  None\n"
     ]
    }
   ],
   "source": [
    "def lang(category,best='None'):\n",
    "    print('  i choose ' + category )\n",
    "    print ( 'The best a langauage  tecnonlogies is  ' + best)\n",
    "lang('data science','python')\n",
    "lang('machine learning')"
   ]
  },
  {
   "cell_type": "code",
   "execution_count": 15,
   "metadata": {},
   "outputs": [
    {
     "name": "stdout",
     "output_type": "stream",
     "text": [
      "Your first name is alex\n",
      "The last name is mark\n"
     ]
    }
   ],
   "source": [
    "def names(gen,last):\n",
    "    full_name= gen  ,''+ last\n",
    "    return full_name.title()\n",
    "\n",
    "\n",
    "details=name('alex','mark')\n",
    "details\n",
    "\n",
    "    "
   ]
  },
  {
   "cell_type": "code",
   "execution_count": null,
   "metadata": {},
   "outputs": [],
   "source": []
  },
  {
   "cell_type": "code",
   "execution_count": null,
   "metadata": {},
   "outputs": [],
   "source": []
  }
 ],
 "metadata": {
  "kernelspec": {
   "display_name": "Python 3",
   "language": "python",
   "name": "python3"
  },
  "language_info": {
   "codemirror_mode": {
    "name": "ipython",
    "version": 3
   },
   "file_extension": ".py",
   "mimetype": "text/x-python",
   "name": "python",
   "nbconvert_exporter": "python",
   "pygments_lexer": "ipython3",
   "version": "3.7.4"
  }
 },
 "nbformat": 4,
 "nbformat_minor": 2
}
